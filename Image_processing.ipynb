{
 "cells": [
  {
   "cell_type": "code",
   "execution_count": 89,
   "metadata": {},
   "outputs": [
    {
     "data": {
      "image/png": "[encoded data removed]",
      "text/plain": [
       "<Figure size 432x288 with 1 Axes>"
      ]
     },
     "metadata": {
      "needs_background": "light"
     },
     "output_type": "display_data"
    },
    {
     "name": "stdout",
     "output_type": "stream",
     "text": [
      "2.75 %\n",
      "Area: 10472859120.77 km^2\n"
     ]
    }
   ],
   "source": [
    "import math\n",
    "import cv2\n",
    "import numpy as np \n",
    "from matplotlib import pyplot as plt\n",
    "from sklearn.cluster import KMeans\n",
    "\n",
    "def BGR2RGB(img):\n",
    "    img = cv2.cvtColor(img, cv2.COLOR_BGR2RGB)\n",
    "    return img\n",
    "\n",
    "def resize(img, x ,y):\n",
    "    img = cv2.resize(img , dsize=(x, y), interpolation=cv2.INTER_AREA)\n",
    "    return img\n",
    "\n",
    "def brightness_up(img, bright):\n",
    "    M = np.ones(img.shape, dtype = \"uint8\") * bright\n",
    "    temp = cv2.add(img, M)\n",
    "    temp = cv2.add(temp, M)\n",
    "    return temp\n",
    "\n",
    "def brightness_down(img, bright):\n",
    "    M = np.ones(img.shape, dtype = \"uint8\") * bright\n",
    "    temp = cv2.subtract(img, M)\n",
    "    temp = cv2.subtract(temp, M)\n",
    "    return temp\n",
    "\n",
    "def crop_img(img, a1, b1, r):\n",
    "    result = img2[a1-r:a1+r,b1-r:b1+r]\n",
    "    return img\n",
    "\n",
    "def remove_background(img, a1, b1, x, y, r):\n",
    "    img = img[a1-r:a1+r,b1-r:b1+r]\n",
    "    img = img[y:y+r*2, x:x+r*2]\n",
    "    mask = np.full((img.shape[0], img.shape[1]), 0, dtype=np.uint8) \n",
    "    cv2.circle(mask,(r,r), r, (255, 255, 255),-1)\n",
    "    fg = cv2.bitwise_or(img, img, mask=mask)\n",
    "    mask = cv2.bitwise_not(mask)\n",
    "    background = np.full(img.shape, 255, dtype=np.uint8)\n",
    "    bk = cv2.bitwise_or(background, background, mask=mask)\n",
    "    img = cv2.bitwise_or(fg, bk)\n",
    "    return img\n",
    "\n",
    "def image_black(img):\n",
    "    img = img - 120\n",
    "    return img\n",
    "\n",
    "def cal_whiteRatio(img):\n",
    "    k = 10\n",
    "    img = img.reshape((img.shape[0] * img.shape[1], 3))\n",
    "    clt = KMeans(n_clusters = k)\n",
    "    clt.fit(img)\n",
    "    numLabels = np.arange(0, len(np.unique(clt.labels_)) + 1)\n",
    "    (hist, _) = np.histogram(clt.labels_, bins=numLabels)\n",
    "    hist = hist.astype(\"float\")\n",
    "    hist /= hist.sum()\n",
    "    hist.sort()\n",
    "    ratio = sum(hist[:-1])\n",
    "    return ratio\n",
    "\n",
    "def cal_coronalHole(ratio, r):\n",
    "    return (r * r * ratio) * 0.5 * 0.5 * math.pi\n",
    "\n",
    "def main():\n",
    "    # Filter for finding Features\n",
    "    img = cv2.imread('./DATA/01.png',cv2.IMREAD_GRAYSCALE)\n",
    "    img2 = img.copy()\n",
    "    img2 = resize(img2, 250, 250)\n",
    "    img2 = BGR2RGB(img2)\n",
    "    img2 = brightness_up(img2, 100)\n",
    "    img2 = remove_background(img2, 123, 123, 0, 0, 100)\n",
    "    img2 = brightness_down(img2, 60)\n",
    "    img2 = image_black(img2)\n",
    "    imgplot = plt.imshow(img2)\n",
    "    plt.show()\n",
    "    \n",
    "    ratio = cal_whiteRatio(img2)\n",
    "    print(round((ratio * 100),2),'%')\n",
    "    area = cal_coronalHole(ratio, 696340)\n",
    "    print('Area:', round(area, 2),\"km^2\")\n",
    "\n",
    "if __name__ == '__main__':\n",
    "    main()"
   ]
  },
  {
   "cell_type": "code",
   "execution_count": null,
   "metadata": {},
   "outputs": [],
   "source": []
  }
 ],
 "metadata": {
  "kernelspec": {
   "display_name": "Python 3",
   "language": "python",
   "name": "python3"
  },
  "language_info": {
   "codemirror_mode": {
    "name": "ipython",
    "version": 3
   },
   "file_extension": ".py",
   "mimetype": "text/x-python",
   "name": "python",
   "nbconvert_exporter": "python",
   "pygments_lexer": "ipython3",
   "version": "3.8.10"
  }
 },
 "nbformat": 4,
 "nbformat_minor": 4
}
